{
 "cells": [
  {
   "cell_type": "markdown",
   "metadata": {},
   "source": [
    "# Mini-Project I\n",
    "During this project, we will practice handling of complex lists and dictionaries in Python. Plus, we will learn how to work with API documentation. Don't be afraid to search for the information in the [**documentation**](https://api.tfl.gov.uk/swagger/ui/index.html?url=/swagger/docs/v1#!/AccidentStats/AccidentStats_Get).\n",
    "\n",
    "Let's go to the tasks, we have some parsing to do :)!!"
   ]
  },
  {
   "cell_type": "code",
   "execution_count": null,
   "metadata": {},
   "outputs": [],
   "source": []
  },
  {
   "cell_type": "code",
   "execution_count": 22,
   "metadata": {},
   "outputs": [],
   "source": [
    "# import packages we need (remember what packages we used yesterday during the API session)\n",
    "# IMPORT HERE\n",
    "import os\n",
    "import requests"
   ]
  },
  {
   "cell_type": "code",
   "execution_count": null,
   "metadata": {},
   "outputs": [],
   "source": []
  },
  {
   "cell_type": "code",
   "execution_count": null,
   "metadata": {},
   "outputs": [],
   "source": []
  },
  {
   "cell_type": "markdown",
   "metadata": {},
   "source": [
    "## Demo"
   ]
  },
  {
   "cell_type": "code",
   "execution_count": 2,
   "metadata": {},
   "outputs": [],
   "source": [
    "# don't forget package os\n",
    "#app_id = os.environ[\"<your app id name>\"]\n",
    "#app_key = os.environ[\"<your app key name>\"]\n",
    "#url_append = f'?app_id={app_id}&app_key={app_key}' "
   ]
  },
  {
   "cell_type": "code",
   "execution_count": 23,
   "metadata": {},
   "outputs": [],
   "source": [
    "# URL\n",
    "baseURL = \"https://api.tfl.gov.uk\"\n",
    "url = \"https://api.tfl.gov.uk/AirQuality\""
   ]
  },
  {
   "cell_type": "code",
   "execution_count": 24,
   "metadata": {},
   "outputs": [],
   "source": [
    "# We send the request to the API\n",
    "# NOTE: if you don't have your APP_KEY, run this without the url_append\n",
    "res = requests.get(url)"
   ]
  },
  {
   "cell_type": "code",
   "execution_count": 25,
   "metadata": {},
   "outputs": [
    {
     "data": {
      "text/plain": [
       "200"
      ]
     },
     "execution_count": 25,
     "metadata": {},
     "output_type": "execute_result"
    }
   ],
   "source": [
    "# We can check if the request was successful\n",
    "res.status_code"
   ]
  },
  {
   "cell_type": "code",
   "execution_count": null,
   "metadata": {},
   "outputs": [],
   "source": [
    "# We can export the information that was returned using method .json()\n"
   ]
  },
  {
   "cell_type": "code",
   "execution_count": null,
   "metadata": {},
   "outputs": [],
   "source": []
  },
  {
   "cell_type": "markdown",
   "metadata": {},
   "source": [
    "## Task\n",
    "Parse the dictionary and print the AirQuality predictions for tomorrow"
   ]
  },
  {
   "cell_type": "code",
   "execution_count": 27,
   "metadata": {},
   "outputs": [
    {
     "name": "stdout",
     "output_type": "stream",
     "text": [
      "Low air pollution forecast valid from Thursday 5 May to end of Friday 6 May GMT\n"
     ]
    }
   ],
   "source": [
    "from IPython.display import JSON\n",
    "resp =res.json()\n",
    "#print(resp)\n",
    "predictionForTMR = resp['currentForecast'][0]['forecastSummary']\n",
    "print(predictionForTMR)\n",
    "#import json\n",
    "\n",
    "#print(json.dumps(resp, indent=4))"
   ]
  },
  {
   "cell_type": "code",
   "execution_count": null,
   "metadata": {},
   "outputs": [],
   "source": []
  },
  {
   "cell_type": "markdown",
   "metadata": {},
   "source": [
    "## Task\n",
    "What are the different modes of transport which are operated by Transfer for London? How many of modes do they have?\n",
    "\n",
    "Print the list with different modes of transport, plus their count. Example output:\n",
    "```\n",
    "[bus, cable-car,.....]\n",
    "Number of different modes of transport is: xyz\n",
    "```\n",
    "\n",
    "We need to search the documentation for correct request."
   ]
  },
  {
   "cell_type": "code",
   "execution_count": null,
   "metadata": {},
   "outputs": [],
   "source": [
    "from collections import Counter\n",
    "\n",
    "url = baseURL + '/Line/Meta/Modes'"
   ]
  },
  {
   "cell_type": "code",
   "execution_count": null,
   "metadata": {},
   "outputs": [],
   "source": [
    "res = requests.get(url)     "
   ]
  },
  {
   "cell_type": "code",
   "execution_count": null,
   "metadata": {},
   "outputs": [
    {
     "name": "stdout",
     "output_type": "stream",
     "text": [
      "['bus', 'cable-car', 'coach', 'cycle', 'cycle-hire', 'dlr', 'elizabeth-line', 'interchange-keep-sitting', 'interchange-secure', 'national-rail', 'overground', 'replacement-bus', 'river-bus', 'river-tour', 'taxi', 'tflrail', 'tram', 'tube', 'walking']\n",
      "Number of different modes of transport is: 19\n"
     ]
    }
   ],
   "source": [
    "vehicle = res.json()\n",
    "listTrans = []\n",
    "for eachLine in vehicle:\n",
    "    #print(eachLine, '\\n')\n",
    "    listTrans.append(eachLine['modeName'])\n",
    "print(listTrans)\n",
    "print(\"Number of different modes of transport is:\", len(listTrans))"
   ]
  },
  {
   "cell_type": "code",
   "execution_count": null,
   "metadata": {},
   "outputs": [],
   "source": []
  },
  {
   "cell_type": "code",
   "execution_count": null,
   "metadata": {},
   "outputs": [],
   "source": []
  },
  {
   "cell_type": "markdown",
   "metadata": {},
   "source": [
    "## Task\n",
    "How many BikePoints in London are operated by Transfor for London? How many docks are in **all** BikePoints? There is the information for empty and full docks for each BikePoint."
   ]
  },
  {
   "cell_type": "code",
   "execution_count": null,
   "metadata": {},
   "outputs": [],
   "source": [
    "url = baseURL + \"/BikePoint\"\n",
    "res =requests.get(url)"
   ]
  },
  {
   "cell_type": "code",
   "execution_count": null,
   "metadata": {},
   "outputs": [
    {
     "name": "stdout",
     "output_type": "stream",
     "text": [
      "Number of BikePoints in London is: 791\n"
     ]
    }
   ],
   "source": [
    "bikePoint = res.json()\n",
    "countbp = 0\n",
    "countdDock = 0 \n",
    "for eachLine in bikePoint:\n",
    "    #print(eachLine,\"\\n\")\n",
    "    if eachLine['id'][:10] == \"BikePoints\":\n",
    "        countbp += 1\n",
    "\n",
    "print(\"Number of BikePoints in London is:\", countbp)"
   ]
  },
  {
   "cell_type": "code",
   "execution_count": null,
   "metadata": {},
   "outputs": [],
   "source": []
  },
  {
   "cell_type": "markdown",
   "metadata": {},
   "source": [
    "## Task\n",
    "How many tube and bus lines are in London? Print names of all tube lines."
   ]
  },
  {
   "cell_type": "code",
   "execution_count": null,
   "metadata": {},
   "outputs": [
    {
     "name": "stdout",
     "output_type": "stream",
     "text": [
      "There are 689 in total for bus and tube line in London\n",
      "Names of all tube lines:\n",
      "['Bakerloo', 'Central', 'Circle', 'District', 'Hammersmith & City', 'Jubilee', 'Metropolitan', 'Northern', 'Piccadilly', 'Victoria', 'Waterloo & City']\n"
     ]
    }
   ],
   "source": [
    "url = baseURL + '/Line/Mode/bus'\n",
    "busres = requests.get(url)\n",
    "busline = busres.json()\n",
    "url = baseURL + '/Line/Mode/tube'\n",
    "tuberes = requests.get(url)\n",
    "tubeline = tuberes.json()\n",
    "countB = len(busline)\n",
    "countT = len(tubeline)\n",
    "listTube = []\n",
    "both = countB + countT\n",
    "\n",
    "print(\"There are\", both, \"in total for bus and tube line in London\")\n",
    "\n",
    "for tube in tubeline:\n",
    "    listTube.append(tube['name'])\n",
    "\n",
    "print(\"Names of all tube lines:\")\n",
    "print(listTube)\n"
   ]
  },
  {
   "cell_type": "code",
   "execution_count": null,
   "metadata": {},
   "outputs": [],
   "source": []
  },
  {
   "cell_type": "markdown",
   "metadata": {},
   "source": [
    "## Task\n",
    "How many station has `victoria` line?"
   ]
  },
  {
   "cell_type": "code",
   "execution_count": null,
   "metadata": {},
   "outputs": [
    {
     "name": "stdout",
     "output_type": "stream",
     "text": [
      "Count stations: 16\n"
     ]
    }
   ],
   "source": [
    "import requests as re\n",
    "import json \n",
    "url = 'https://api.tfl.gov.uk/Line/victoria/StopPoints'\n",
    "res = requests.get(url)\n",
    "vicLine = res.json()\n",
    "print(f'Count stations: {len(vicLine)}')\n",
    "# for eachLine in vicLine:\n",
    "#     #print(eachLine, '\\n')\n",
    "#     if eachLine['displayName'] == 'victoria':\n",
    "#         print(eachLine)"
   ]
  },
  {
   "cell_type": "code",
   "execution_count": null,
   "metadata": {},
   "outputs": [],
   "source": []
  },
  {
   "cell_type": "markdown",
   "metadata": {},
   "source": [
    "## Task\n",
    "Plan the journey from Heathrow Airport to Tower Bridge using Bus and Tube? Which way is faster? Example output:\n",
    "```\n",
    "Planned duration:\n",
    "Bus: x minutes\n",
    "Tube: y minutes\n",
    "```\n",
    "\n",
    "We need to search the documentation for correct requests and parameters we need."
   ]
  },
  {
   "cell_type": "code",
   "execution_count": 17,
   "metadata": {},
   "outputs": [
    {
     "name": "stdout",
     "output_type": "stream",
     "text": [
      "Planned duration:\n",
      "Bus: 103 minutes\n",
      "Tube: 319 minutes\n"
     ]
    }
   ],
   "source": [
    "mode = ['tube','bus']\n",
    "busDuration = 0\n",
    "tubeDuration = 0\n",
    "\n",
    "for m in mode:\n",
    "    url = f'https://api.tfl.gov.uk/Journey/JourneyResults/51.4700,-0.4543/to/51.5055,-0.0754?mode={m}'\n",
    "    res = requests.get(url)\n",
    "    journey = res.json()\n",
    "    #print(journey)\n",
    "    if m == 'tube':\n",
    "        #print(journey['journeys'][0]['duration'])\n",
    "        tubeDuration = journey['journeys'][0]['duration']\n",
    "    else:\n",
    "        busDuration = journey['journeys'][0]['duration']\n",
    "print(\"Planned duration:\")\n",
    "print(\"Bus:\", busDuration, 'minutes')\n",
    "print(\"Tube:\", tubeDuration, \"minutes\")"
   ]
  },
  {
   "cell_type": "code",
   "execution_count": null,
   "metadata": {},
   "outputs": [],
   "source": []
  },
  {
   "cell_type": "code",
   "execution_count": null,
   "metadata": {},
   "outputs": [],
   "source": []
  },
  {
   "cell_type": "code",
   "execution_count": null,
   "metadata": {},
   "outputs": [],
   "source": []
  }
 ],
 "metadata": {
  "kernelspec": {
   "display_name": "firstEnv",
   "language": "python",
   "name": "firstenv"
  },
  "language_info": {
   "codemirror_mode": {
    "name": "ipython",
    "version": 3
   },
   "file_extension": ".py",
   "mimetype": "text/x-python",
   "name": "python",
   "nbconvert_exporter": "python",
   "pygments_lexer": "ipython3",
   "version": "3.8.8"
  }
 },
 "nbformat": 4,
 "nbformat_minor": 4
}
