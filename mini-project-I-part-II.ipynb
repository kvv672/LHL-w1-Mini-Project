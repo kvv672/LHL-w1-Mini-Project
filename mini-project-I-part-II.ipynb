{
 "cells": [
  {
   "cell_type": "markdown",
   "metadata": {},
   "source": [
    "## Movies\n",
    "In this part of mini-project, we need to have our API-KEY ready because this API won't work without it.\n",
    "\n",
    "We encourage you to look for correct endpoints in [the documentation](https://developers.themoviedb.org/3/account). We can also play around with requests there before copying them to Python."
   ]
  },
  {
   "cell_type": "code",
   "execution_count": 107,
   "metadata": {},
   "outputs": [],
   "source": [
    "import requests\n",
    "import json\n",
    "import os\n",
    "from collections import OrderedDict"
   ]
  },
  {
   "cell_type": "markdown",
   "metadata": {},
   "source": [
    "## Demo"
   ]
  },
  {
   "cell_type": "code",
   "execution_count": 57,
   "metadata": {},
   "outputs": [],
   "source": [
    "base = \"https://api.themoviedb.org/3\"\n",
    "url = \"/search/movie\"\n",
    "\n",
    "query = 'titanic'\n",
    "api_key = \"2785d06eb866a4683b32c7dd20b6fb63\"\n",
    "params = f'?query={query}&api_key={api_key}' "
   ]
  },
  {
   "cell_type": "code",
   "execution_count": 58,
   "metadata": {},
   "outputs": [],
   "source": [
    "res = requests.get(base+url+params)"
   ]
  },
  {
   "cell_type": "code",
   "execution_count": 59,
   "metadata": {},
   "outputs": [
    {
     "data": {
      "text/plain": [
       "200"
      ]
     },
     "execution_count": 59,
     "metadata": {},
     "output_type": "execute_result"
    }
   ],
   "source": [
    "res.status_code"
   ]
  },
  {
   "cell_type": "code",
   "execution_count": 60,
   "metadata": {},
   "outputs": [
    {
     "data": {
      "text/plain": [
       "{'page': 1,\n",
       " 'results': [{'adult': False,\n",
       "   'backdrop_path': '/yDI6D5ZQh67YU4r2ms8qcSbAviZ.jpg',\n",
       "   'genre_ids': [18, 10749],\n",
       "   'id': 597,\n",
       "   'original_language': 'en',\n",
       "   'original_title': 'Titanic',\n",
       "   'overview': \"101-year-old Rose DeWitt Bukater tells the story of her life aboard the Titanic, 84 years later. A young Rose boards the ship with her mother and fiancé. Meanwhile, Jack Dawson and Fabrizio De Rossi win third-class tickets aboard the ship. Rose tells the whole story from Titanic's departure through to its death—on its first and last voyage—on April 15, 1912.\",\n",
       "   'popularity': 121.748,\n",
       "   'poster_path': '/9xjZS2rlVxm8SFx8kPC3aIGCOYQ.jpg',\n",
       "   'release_date': '1997-11-18',\n",
       "   'title': 'Titanic',\n",
       "   'video': False,\n",
       "   'vote_average': 7.9,\n",
       "   'vote_count': 20943},\n",
       "  {'adult': False,\n",
       "   'backdrop_path': '/e9XRikkyth0GtG8RkU3XNm0oMsA.jpg',\n",
       "   'genre_ids': [28, 12, 53],\n",
       "   'id': 44918,\n",
       "   'original_language': 'en',\n",
       "   'original_title': 'Titanic II',\n",
       "   'overview': 'On the 100th anniversary of the original voyage, a modern luxury liner christened \"Titanic 2,\" follows the path of its namesake. But when a tsunami hurls an ice berg into the new ship\\'s path, the passengers and crew must fight to avoid a similar fate.',\n",
       "   'popularity': 31.687,\n",
       "   'poster_path': '/3m12UeP1DMfhYZyvpLftaJGsyp3.jpg',\n",
       "   'release_date': '2010-08-07',\n",
       "   'title': 'Titanic II',\n",
       "   'video': False,\n",
       "   'vote_average': 4.9,\n",
       "   'vote_count': 299},\n",
       "  {'adult': False,\n",
       "   'backdrop_path': '/3oShsRvAyZiQQ5lP2hszWN9Ri0b.jpg',\n",
       "   'genre_ids': [18, 10749],\n",
       "   'id': 16535,\n",
       "   'original_language': 'en',\n",
       "   'original_title': 'Titanic',\n",
       "   'overview': 'Unhappily married, Julia Sturges decides to go to America with her two children on the Titanic. Her husband, Richard also arranges passage on the luxury liner so as to have custody of their two children. All this fades to insignificance once the ship hits an iceberg.',\n",
       "   'popularity': 13.155,\n",
       "   'poster_path': '/n2hykMnmw1APSBYpJ2CV6dtD47.jpg',\n",
       "   'release_date': '1953-04-11',\n",
       "   'title': 'Titanic',\n",
       "   'video': False,\n",
       "   'vote_average': 6.4,\n",
       "   'vote_count': 84},\n",
       "  {'adult': False,\n",
       "   'backdrop_path': '/ABvXvATmJT3FCZRnoINF3utNa4.jpg',\n",
       "   'genre_ids': [53, 27],\n",
       "   'id': 945657,\n",
       "   'original_language': 'en',\n",
       "   'original_title': 'Titanic 666',\n",
       "   'overview': 'After a mammoth cruise ship sails over the site of the Titanic’s disaster, dark and deadly events start to occur on board. As the ship’s captain investigate the tragic occurrences, it becomes clear that the passengers from the original Titanic have returned.',\n",
       "   'popularity': 12.43,\n",
       "   'poster_path': '/9C0GAAnpydkjDAMvr2BNslggKU3.jpg',\n",
       "   'release_date': '2022-04-15',\n",
       "   'title': 'Titanic 666',\n",
       "   'video': False,\n",
       "   'vote_average': 4,\n",
       "   'vote_count': 7},\n",
       "  {'adult': False,\n",
       "   'backdrop_path': '/82tRA7Vdf7TwdyJYILUh6FuY88L.jpg',\n",
       "   'genre_ids': [99],\n",
       "   'id': 198901,\n",
       "   'original_language': 'en',\n",
       "   'original_title': 'Titanic: 100 Years On',\n",
       "   'overview': 'The \"unsinkable\" floating palace set sail from Southampton on 10th April 1912 on her maiden voyage to New York. An iceberg ended this monumental journey 5 days later. Only 705 of the passengers and crew survived. This program features an exclusive look at the Sea City Museum Titanic Exhibit in Southampton, interviews from both survivors and the cast of the blockbuster film.',\n",
       "   'popularity': 14.512,\n",
       "   'poster_path': '/uAaXfaJpKjmsA3F1KgowcRJPKPM.jpg',\n",
       "   'release_date': '2012-06-01',\n",
       "   'title': 'Titanic: 100 Years On',\n",
       "   'video': False,\n",
       "   'vote_average': 6.9,\n",
       "   'vote_count': 18},\n",
       "  {'adult': False,\n",
       "   'backdrop_path': None,\n",
       "   'genre_ids': [35, 27],\n",
       "   'id': 4240,\n",
       "   'original_language': 'en',\n",
       "   'original_title': 'Titanic 2000',\n",
       "   'overview': 'The luxury liner Titanic 2000 has set sail on its maiden voyage, and one of the passengers is the vampire Vladamina. Vladamina is searching for a woman she can turn into a vampire queen, and frustrated rock groupie Shari looks to be a perfect target. As various people get seduced and/or killed as the liner continues on its doomed voyage, Shari must chose between eternity as a living dead sex slave or a frigid grave at the bottom of the ocean.',\n",
       "   'popularity': 8.568,\n",
       "   'poster_path': '/91p8xU2nykmw8psADIJOlBLdlXK.jpg',\n",
       "   'release_date': '1999-01-01',\n",
       "   'title': 'Titanic 2000',\n",
       "   'video': False,\n",
       "   'vote_average': 3.3,\n",
       "   'vote_count': 10},\n",
       "  {'adult': False,\n",
       "   'backdrop_path': '/q3b8Vi2W6j72aXKggiVoDnEyDgU.jpg',\n",
       "   'genre_ids': [12],\n",
       "   'id': 24575,\n",
       "   'original_language': 'en',\n",
       "   'original_title': 'Raise the Titanic',\n",
       "   'overview': 'To obtain a supply of a rare mineral, a ship raising operation is conducted for the only known source, the Titanic.',\n",
       "   'popularity': 10.488,\n",
       "   'poster_path': '/beYNLj44FOdV47tomXuJyPkvCKl.jpg',\n",
       "   'release_date': '1980-08-01',\n",
       "   'title': 'Raise the Titanic',\n",
       "   'video': False,\n",
       "   'vote_average': 5.5,\n",
       "   'vote_count': 60},\n",
       "  {'adult': False,\n",
       "   'backdrop_path': '/edHgXEtPbyVIQ7xKb1cvJJqTVhA.jpg',\n",
       "   'genre_ids': [28, 18, 36],\n",
       "   'id': 11021,\n",
       "   'original_language': 'de',\n",
       "   'original_title': 'Titanic',\n",
       "   'overview': \"This little-known German film retells the true story of the British ocean liner that met a tragic fate. Ernst Fritz Fürbringer plays the president of the White Star Line, who unwisely pressed the Titanic's captain (Otto Wernicke) to make the swiftest possible crossing to New York.\",\n",
       "   'popularity': 5.476,\n",
       "   'poster_path': '/Al7oIXQ4dZAofBTZWm6OiXS3MEa.jpg',\n",
       "   'release_date': '1943-11-10',\n",
       "   'title': 'Titanic',\n",
       "   'video': False,\n",
       "   'vote_average': 6.1,\n",
       "   'vote_count': 44},\n",
       "  {'adult': False,\n",
       "   'backdrop_path': '/sdtfwZulErbQ7y9RVbaOuWVouD6.jpg',\n",
       "   'genre_ids': [36, 18, 53],\n",
       "   'id': 86938,\n",
       "   'original_language': 'en',\n",
       "   'original_title': 'S.O.S. Titanic',\n",
       "   'overview': 'The Titanic disaster is depicted as seen through the eyes of one couple in each of the three classes on board.',\n",
       "   'popularity': 5.526,\n",
       "   'poster_path': '/wy5ut2GVpPaNxxXFRdkIywjRpeO.jpg',\n",
       "   'release_date': '1979-09-23',\n",
       "   'title': 'S.O.S. Titanic',\n",
       "   'video': False,\n",
       "   'vote_average': 6.1,\n",
       "   'vote_count': 28},\n",
       "  {'adult': False,\n",
       "   'backdrop_path': '/hDfaa3Nj3K3SkXBr8eALYfPT5pF.jpg',\n",
       "   'genre_ids': [99],\n",
       "   'id': 428950,\n",
       "   'original_language': 'en',\n",
       "   'original_title': 'Drain the Titanic',\n",
       "   'overview': \"Computer-generated imagery and other visualization techniques reveal how it would look if all the water was removed from RMS Titanic's final resting place.\",\n",
       "   'popularity': 7.309,\n",
       "   'poster_path': '/68Fppsnpc3OmQK8kIustffrxHbq.jpg',\n",
       "   'release_date': '2016-05-05',\n",
       "   'title': 'Drain the Titanic',\n",
       "   'video': False,\n",
       "   'vote_average': 7.3,\n",
       "   'vote_count': 16},\n",
       "  {'adult': False,\n",
       "   'backdrop_path': None,\n",
       "   'genre_ids': [99, 36],\n",
       "   'id': 530108,\n",
       "   'original_language': 'en',\n",
       "   'original_title': 'The Unsinkable Titanic',\n",
       "   'overview': 'On April 10, 1912, the RMS Titanic embarked on its maiden voyage, sailing from Southampton, England, to New York City. One of the largest and most luxurious passenger liners at the time, the Titanic was also equipped with watertight compartments, which led many to consider the ship unsinkable; an anonymous deckhand famously claimed that “God himself could not sink this ship.” On April 14, however, the ship struck an iceberg, and early the next day it sank. Some 1,500 people perished.',\n",
       "   'popularity': 7.251,\n",
       "   'poster_path': '/m3py1JoOPM3s3RTRv965tMC8Fqy.jpg',\n",
       "   'release_date': '2008-11-03',\n",
       "   'title': 'The Unsinkable Titanic',\n",
       "   'video': False,\n",
       "   'vote_average': 7,\n",
       "   'vote_count': 3},\n",
       "  {'adult': False,\n",
       "   'backdrop_path': '/4Sddw1BFQFHOIQZ3DY7QS0mGnVe.jpg',\n",
       "   'genre_ids': [16, 10751],\n",
       "   'id': 71235,\n",
       "   'original_language': 'it',\n",
       "   'original_title': 'Titanic: La leggenda continua',\n",
       "   'overview': 'An animated retelling of the worst passenger ship disaster in history. In this version, love blossoms between the upper-class Sir William and the blue-collar Angelica, who is hoping to find romance in America. At the same time, there are also a number of animal passengers, including talking dogs, cats and mice, who are also looking forward to arriving in the New World.',\n",
       "   'popularity': 5.403,\n",
       "   'poster_path': '/s1PHRSlos2hIFrtA8Ze0JybJTGb.jpg',\n",
       "   'release_date': '2000-09-15',\n",
       "   'title': 'Titanic: The Legend Goes On...',\n",
       "   'video': False,\n",
       "   'vote_average': 2.4,\n",
       "   'vote_count': 50},\n",
       "  {'adult': False,\n",
       "   'backdrop_path': None,\n",
       "   'genre_ids': [10770, 99],\n",
       "   'id': 463397,\n",
       "   'original_language': 'en',\n",
       "   'original_title': 'Nazi Titanic',\n",
       "   'overview': 'During a bizarre chapter of WWII, Nazi propaganda minister Joseph Goebbels decided to make a movie based on the sinking of the Titanic. This epic film was so large in scale that the Nazis were forced to divert men, material and ships from the war effort in order to complete it. Titanic was filmed aboard cruise ship SS Cap Arcona in the Baltic Sea. The movie’s director Herbert Selpin was arrested by the Gestapo over comments he made about the ship’s crew and he was questioned by Goebbels. Selpin was found dead the next day in his cell. The Gestapo’s verdict was suicide. Titanic never received the impressive premiere that Goebbels intended, being first shown in Nazi-occupied Paris in 1943. We reveal this little known but fascinating story by looking at the making of the film, as well as the fate of the German ship Cap Arcona.',\n",
       "   'popularity': 3.56,\n",
       "   'poster_path': '/pmCnVAP0dQumyDMgCnzEgnpMt1g.jpg',\n",
       "   'release_date': '2012-04-14',\n",
       "   'title': 'Nazi Titanic',\n",
       "   'video': False,\n",
       "   'vote_average': 7,\n",
       "   'vote_count': 3},\n",
       "  {'adult': False,\n",
       "   'backdrop_path': '/dxdN3RxJRVYzFxVSR0fNhSBqBSL.jpg',\n",
       "   'genre_ids': [99],\n",
       "   'id': 682666,\n",
       "   'original_language': 'en',\n",
       "   'original_title': 'Back to the Titanic',\n",
       "   'overview': 'Back to the Titanic documents the first manned dives to Titanic in nearly 15 years. New footage reveals fresh decay and sheds light on the ship’s future.',\n",
       "   'popularity': 4.973,\n",
       "   'poster_path': '/wqa5qTTX547R9RIsiLbvQww1wkL.jpg',\n",
       "   'release_date': '2020-02-23',\n",
       "   'title': 'Back to the Titanic',\n",
       "   'video': False,\n",
       "   'vote_average': 7.8,\n",
       "   'vote_count': 4},\n",
       "  {'adult': False,\n",
       "   'backdrop_path': '/oTR3KI1kVQ6ULrR2X6TobDlYVzO.jpg',\n",
       "   'genre_ids': [16, 10751],\n",
       "   'id': 44310,\n",
       "   'original_language': 'it',\n",
       "   'original_title': 'La leggenda del Titanic',\n",
       "   'overview': 'Old Grandpa mouse tells to his grandchildren the \"real\" story of the Titanic disaster, including evil sharks, a giant octopus, and an evil whaling scheme.',\n",
       "   'popularity': 3.343,\n",
       "   'poster_path': '/tscmcvMs9T1TOjoMD7x12FveNsR.jpg',\n",
       "   'release_date': '1999-01-01',\n",
       "   'title': 'The Legend of the Titanic',\n",
       "   'video': False,\n",
       "   'vote_average': 3.3,\n",
       "   'vote_count': 32},\n",
       "  {'adult': False,\n",
       "   'backdrop_path': '/pOf6CiaFvnuwpXg5eEKJq76oP1g.jpg',\n",
       "   'genre_ids': [],\n",
       "   'id': 763424,\n",
       "   'original_language': 'en',\n",
       "   'original_title': 'Who Sank the Titanic?',\n",
       "   'overview': '',\n",
       "   'popularity': 4.447,\n",
       "   'poster_path': '/2x2z0JMK0Gz66cNIqZeutHSSuJu.jpg',\n",
       "   'release_date': '2019-10-10',\n",
       "   'title': 'Who Sank the Titanic?',\n",
       "   'video': False,\n",
       "   'vote_average': 0,\n",
       "   'vote_count': 0},\n",
       "  {'adult': False,\n",
       "   'backdrop_path': '/mEoU71g0SjTDEiMTyRj1bV2EfIp.jpg',\n",
       "   'genre_ids': [99],\n",
       "   'id': 213362,\n",
       "   'original_language': 'en',\n",
       "   'original_title': 'Reflections on Titanic',\n",
       "   'overview': \"An enthralling and fast-paced four-part documentary feature that covers the making of one of the last major Hollywood epics; Titanic. Cast and crew speak on setting the sinking of the ship against a classic romance. The feature also examines casting and the young couple headlining the film, DiCaprio's and Winslet's on-set friendship and their differing acting styles, the expansive sets and filming locations, the authenticity of the recreated ship, James Cameron's work and dedication, and budgeting. And many more aspects of the film are overviewed.\",\n",
       "   'popularity': 4.471,\n",
       "   'poster_path': '/2hdOU2edVT1MoFBXXTpetJU3LB7.jpg',\n",
       "   'release_date': '2012-09-10',\n",
       "   'title': 'Reflections on Titanic',\n",
       "   'video': False,\n",
       "   'vote_average': 7.2,\n",
       "   'vote_count': 19},\n",
       "  {'adult': False,\n",
       "   'backdrop_path': None,\n",
       "   'genre_ids': [99],\n",
       "   'id': 421657,\n",
       "   'original_language': 'en',\n",
       "   'original_title': 'Inside the Titanic',\n",
       "   'overview': 'An ambitious factual drama that reveals moment by moment exactly how the Titanic sank, telling the untold stories of the engineers and stokers who battled the icy water.',\n",
       "   'popularity': 3.21,\n",
       "   'poster_path': '/jDHeorRWLuzyXSUGVX47OSdWvVM.jpg',\n",
       "   'release_date': '2012-03-22',\n",
       "   'title': 'Inside the Titanic',\n",
       "   'video': False,\n",
       "   'vote_average': 5.7,\n",
       "   'vote_count': 3},\n",
       "  {'adult': False,\n",
       "   'backdrop_path': '/v6kUC2dsDwSfhwCWdAgldXB7Knu.jpg',\n",
       "   'genre_ids': [99, 18, 10770],\n",
       "   'id': 102370,\n",
       "   'original_language': 'en',\n",
       "   'original_title': 'Saving the Titanic',\n",
       "   'overview': \"In the hours after the Titanic struck an iceberg 100 years ago, a team of shipbuilders and engineers raced against time to save the stricken vessel.  Based on eye-witness accounts, this film reveals what went on below decks in the hours before the Titanic sank, telling the previously relatively unheralded stories of engineers who fought courageously to hold back the power of the sea and keep the power systems running, even when they learned that all was lost.  Most of these men died but their actions bought enough time to save many lives.  This drama-documentary tells a poignant story of self-sacrifice by the Titanic's engineers, stokers and firemen in the face of impending death.\",\n",
       "   'popularity': 2.84,\n",
       "   'poster_path': '/gei8kg0KouyPJKUmxDwTNSnBUTV.jpg',\n",
       "   'release_date': '2012-04-15',\n",
       "   'title': 'Saving the Titanic',\n",
       "   'video': False,\n",
       "   'vote_average': 7.3,\n",
       "   'vote_count': 7},\n",
       "  {'adult': False,\n",
       "   'backdrop_path': None,\n",
       "   'genre_ids': [35],\n",
       "   'id': 428615,\n",
       "   'original_language': 'ro',\n",
       "   'original_title': 'Titanic vals',\n",
       "   'overview': 'Based on a play by Tudor Mușatescu, Titanic Vals is the essence of Romanian genius in comedy, with amazing performances and the beautiful absurd of the quotidian.',\n",
       "   'popularity': 1.4,\n",
       "   'poster_path': '/ezr00Sm1H6Qlq7hRrUZQ9IP7PF3.jpg',\n",
       "   'release_date': '1964-12-02',\n",
       "   'title': 'Titanic Waltz',\n",
       "   'video': True,\n",
       "   'vote_average': 7.6,\n",
       "   'vote_count': 5}],\n",
       " 'total_pages': 8,\n",
       " 'total_results': 147}"
      ]
     },
     "execution_count": 60,
     "metadata": {},
     "output_type": "execute_result"
    }
   ],
   "source": [
    "res.json()"
   ]
  },
  {
   "cell_type": "code",
   "execution_count": null,
   "metadata": {},
   "outputs": [],
   "source": []
  },
  {
   "cell_type": "code",
   "execution_count": null,
   "metadata": {},
   "outputs": [],
   "source": []
  },
  {
   "cell_type": "markdown",
   "metadata": {},
   "source": [
    "## Task\n",
    "Search for you favorite movie and return the information about the movie:\n",
    "- name\n",
    "- release date\n",
    "- runtime\n",
    "- revenue\n",
    "- length of the overview\n",
    "- number of votes\n",
    "- voting average"
   ]
  },
  {
   "cell_type": "code",
   "execution_count": 61,
   "metadata": {},
   "outputs": [],
   "source": [
    "url = \"/movie/198663\"\n",
    "query = 'The Maze Runner'\n",
    "api_key = \"2785d06eb866a4683b32c7dd20b6fb63\"\n",
    "params = f'?query={query}&api_key={api_key}' "
   ]
  },
  {
   "cell_type": "code",
   "execution_count": 62,
   "metadata": {},
   "outputs": [],
   "source": [
    "res = requests.get(base+url+params)"
   ]
  },
  {
   "cell_type": "code",
   "execution_count": 63,
   "metadata": {},
   "outputs": [
    {
     "data": {
      "text/plain": [
       "200"
      ]
     },
     "execution_count": 63,
     "metadata": {},
     "output_type": "execute_result"
    }
   ],
   "source": [
    "res.status_code"
   ]
  },
  {
   "cell_type": "code",
   "execution_count": 66,
   "metadata": {},
   "outputs": [
    {
     "name": "stdout",
     "output_type": "stream",
     "text": [
      "{\n",
      "    \"adult\": false,\n",
      "    \"backdrop_path\": \"/udkrGMA9hsEGkQpmZ31rGpQQKp8.jpg\",\n",
      "    \"belongs_to_collection\": {\n",
      "        \"id\": 295130,\n",
      "        \"name\": \"The Maze Runner Collection\",\n",
      "        \"poster_path\": \"/wQ0l9sq0Bm6OAeqY4w6NWjP9jwS.jpg\",\n",
      "        \"backdrop_path\": \"/te8ibHFhjwWXZTCtQIPRUFjxWX2.jpg\"\n",
      "    },\n",
      "    \"budget\": 34000000,\n",
      "    \"genres\": [\n",
      "        {\n",
      "            \"id\": 28,\n",
      "            \"name\": \"Action\"\n",
      "        },\n",
      "        {\n",
      "            \"id\": 9648,\n",
      "            \"name\": \"Mystery\"\n",
      "        },\n",
      "        {\n",
      "            \"id\": 878,\n",
      "            \"name\": \"Science Fiction\"\n",
      "        },\n",
      "        {\n",
      "            \"id\": 53,\n",
      "            \"name\": \"Thriller\"\n",
      "        }\n",
      "    ],\n",
      "    \"homepage\": \"https://www.20thcenturystudios.com/movies/the-maze-runner\",\n",
      "    \"id\": 198663,\n",
      "    \"imdb_id\": \"tt1790864\",\n",
      "    \"original_language\": \"en\",\n",
      "    \"original_title\": \"The Maze Runner\",\n",
      "    \"overview\": \"Set in a post-apocalyptic world, young Thomas is deposited in a community of boys after his memory is erased, soon learning they're all trapped in a maze that will require him to join forces with fellow \\u201crunners\\u201d for a shot at escape.\",\n",
      "    \"popularity\": 178.398,\n",
      "    \"poster_path\": \"/ode14q7WtDugFDp78fo9lCsmay9.jpg\",\n",
      "    \"production_companies\": [\n",
      "        {\n",
      "            \"id\": 290,\n",
      "            \"logo_path\": \"/Q8mw2AOQQc8Qg0uNwLWq86DVZv.png\",\n",
      "            \"name\": \"Ingenious Media\",\n",
      "            \"origin_country\": \"GB\"\n",
      "        },\n",
      "        {\n",
      "            \"id\": 3672,\n",
      "            \"logo_path\": \"/5VWXJgYYrJZUE0hixvBdVfGSfmo.png\",\n",
      "            \"name\": \"Gotham Group\",\n",
      "            \"origin_country\": \"US\"\n",
      "        },\n",
      "        {\n",
      "            \"id\": 8569,\n",
      "            \"logo_path\": null,\n",
      "            \"name\": \"Dayday Films\",\n",
      "            \"origin_country\": \"GB\"\n",
      "        },\n",
      "        {\n",
      "            \"id\": 12292,\n",
      "            \"logo_path\": \"/llGRXF5WYUW2fzXg0ebCoKMXjmT.png\",\n",
      "            \"name\": \"Temple Hill Entertainment\",\n",
      "            \"origin_country\": \"US\"\n",
      "        },\n",
      "        {\n",
      "            \"id\": 22213,\n",
      "            \"logo_path\": \"/qx9K6bFWJupwde0xQDwOvXkOaL8.png\",\n",
      "            \"name\": \"TSG Entertainment\",\n",
      "            \"origin_country\": \"US\"\n",
      "        },\n",
      "        {\n",
      "            \"id\": 25,\n",
      "            \"logo_path\": \"/qZCc1lty5FzX30aOCVRBLzaVmcp.png\",\n",
      "            \"name\": \"20th Century Fox\",\n",
      "            \"origin_country\": \"US\"\n",
      "        }\n",
      "    ],\n",
      "    \"production_countries\": [\n",
      "        {\n",
      "            \"iso_3166_1\": \"US\",\n",
      "            \"name\": \"United States of America\"\n",
      "        },\n",
      "        {\n",
      "            \"iso_3166_1\": \"GB\",\n",
      "            \"name\": \"United Kingdom\"\n",
      "        }\n",
      "    ],\n",
      "    \"release_date\": \"2014-09-10\",\n",
      "    \"revenue\": 348319861,\n",
      "    \"runtime\": 113,\n",
      "    \"spoken_languages\": [\n",
      "        {\n",
      "            \"english_name\": \"English\",\n",
      "            \"iso_639_1\": \"en\",\n",
      "            \"name\": \"English\"\n",
      "        }\n",
      "    ],\n",
      "    \"status\": \"Released\",\n",
      "    \"tagline\": \"Remember. Survive. Run.\",\n",
      "    \"title\": \"The Maze Runner\",\n",
      "    \"video\": false,\n",
      "    \"vote_average\": 7.2,\n",
      "    \"vote_count\": 14577\n",
      "}\n"
     ]
    }
   ],
   "source": [
    "allInfo = res.json()\n",
    "print(json.dumps(allInfo, indent=4))"
   ]
  },
  {
   "cell_type": "code",
   "execution_count": 68,
   "metadata": {},
   "outputs": [
    {
     "name": "stdout",
     "output_type": "stream",
     "text": [
      "Name of movie: The Maze Runner\n",
      "Release date of movie: 2014-09-10\n",
      "Runtime: 113\n",
      "Revenue: 348319861\n",
      "Length of overview: 234\n",
      "Number of vote: 14577\n",
      "Voting average: 7.2\n"
     ]
    }
   ],
   "source": [
    "\n",
    "name = allInfo[\"original_title\"]\n",
    "release_date = allInfo['release_date']\n",
    "runtime = allInfo['runtime']\n",
    "revenue = allInfo['revenue']\n",
    "lenOfOverview = len(allInfo['overview'])\n",
    "noOfVote = allInfo['vote_count']\n",
    "votingAvg = allInfo['vote_average']\n",
    "print(\"Name of movie:\", name)\n",
    "print(\"Release date of movie:\", release_date)\n",
    "print(\"Runtime:\", runtime)\n",
    "print(\"Revenue:\", revenue)\n",
    "print(\"Length of overview:\", lenOfOverview)\n",
    "print(\"Number of vote:\", noOfVote)\n",
    "print(\"Voting average:\", votingAvg)"
   ]
  },
  {
   "cell_type": "markdown",
   "metadata": {},
   "source": [
    "## Task\n",
    "Search for you favorite actor/actress and return the information about him/her:\n",
    "- name\n",
    "- date of birth\n",
    "- place of birth\n",
    "- length of the biography"
   ]
  },
  {
   "cell_type": "code",
   "execution_count": null,
   "metadata": {},
   "outputs": [],
   "source": [
    "urlActor = \"/person/1136406\"\n",
    "\n",
    "query = 'Tom Holland'\n",
    "api_key = \"2785d06eb866a4683b32c7dd20b6fb63\"\n",
    "params = f'?query={query}&api_key={api_key}' "
   ]
  },
  {
   "cell_type": "code",
   "execution_count": null,
   "metadata": {},
   "outputs": [],
   "source": [
    "res = requests.get(base+urlActor+params)"
   ]
  },
  {
   "cell_type": "code",
   "execution_count": null,
   "metadata": {},
   "outputs": [
    {
     "data": {
      "text/plain": [
       "200"
      ]
     },
     "execution_count": 40,
     "metadata": {},
     "output_type": "execute_result"
    }
   ],
   "source": [
    "res.status_code"
   ]
  },
  {
   "cell_type": "code",
   "execution_count": null,
   "metadata": {},
   "outputs": [
    {
     "name": "stdout",
     "output_type": "stream",
     "text": [
      "Name of actor: Thomas Stanley Holland\n",
      "Birthday: 1996-06-01\n",
      "Place of birth: Surrey, England, UK\n",
      "Length of biography: 558\n"
     ]
    }
   ],
   "source": [
    "actor = res.json()\n",
    "#print(json.dumps(actor, indent=4))\n",
    "nameActor = actor['also_known_as'][0]\n",
    "birthdayActor = actor['birthday']\n",
    "birthPlace = actor['place_of_birth']\n",
    "lenOfBio = len(actor['biography'])\n",
    "print(\"Name of actor:\", nameActor)\n",
    "print(\"Birthday:\", birthdayActor)\n",
    "print(\"Place of birth:\", birthPlace)\n",
    "print(\"Length of biography:\", lenOfBio)"
   ]
  },
  {
   "cell_type": "markdown",
   "metadata": {},
   "source": [
    "## Task\n",
    "Search for you favorite tv-show and return the information about it:\n",
    "- name\n",
    "- first air date\n",
    "- number of seasons\n",
    "- number of episodes\n",
    "- genres"
   ]
  },
  {
   "cell_type": "code",
   "execution_count": 77,
   "metadata": {},
   "outputs": [],
   "source": [
    "urlTv = \"/tv/130386\"\n",
    "\n",
    "api_key = \"2785d06eb866a4683b32c7dd20b6fb63\"\n",
    "params = f'?api_key={api_key}' "
   ]
  },
  {
   "cell_type": "markdown",
   "metadata": {},
   "source": []
  },
  {
   "cell_type": "code",
   "execution_count": 78,
   "metadata": {},
   "outputs": [
    {
     "data": {
      "text/plain": [
       "200"
      ]
     },
     "execution_count": 78,
     "metadata": {},
     "output_type": "execute_result"
    }
   ],
   "source": [
    "res = requests.get(base+urlTv+params)\n",
    "res.status_code"
   ]
  },
  {
   "cell_type": "code",
   "execution_count": 86,
   "metadata": {},
   "outputs": [
    {
     "name": "stdout",
     "output_type": "stream",
     "text": [
      "Name: MasterChef Tamil\n",
      "First air date: 2021-08-07\n",
      "Number of seasons: 1\n",
      "Number of episode: 28\n",
      "Genre: Reality\n"
     ]
    }
   ],
   "source": [
    "tvshow = res.json()\n",
    "#print(json.dumps(tvshow, indent=4))\n",
    "nametv = tvshow['name']\n",
    "firstAirDate = tvshow['first_air_date']\n",
    "noOfSeasons = tvshow['number_of_seasons']\n",
    "noOfEps = tvshow['number_of_episodes']\n",
    "genre = tvshow['genres'][0]['name']\n",
    "print(\"Name:\",nametv)\n",
    "print(\"First air date:\", firstAirDate)\n",
    "print(\"Number of seasons:\", noOfSeasons)\n",
    "print(\"Number of episode:\", noOfEps)\n",
    "print(\"Genre:\", genre)\n"
   ]
  },
  {
   "cell_type": "markdown",
   "metadata": {},
   "source": [
    "## Task \n",
    "Find top 5 trending:\n",
    "- movies\n",
    "- tv-shows\n",
    "- people"
   ]
  },
  {
   "cell_type": "code",
   "execution_count": 129,
   "metadata": {},
   "outputs": [
    {
     "name": "stdout",
     "output_type": "stream",
     "text": [
      "[('Spider-Man: No Way Home', 8.1), ('The Batman', 7.8), ('Sonic the Hedgehog 2', 7.7), ('The Bad Guys', 7.7), ('The Northman', 7.7)]\n"
     ]
    }
   ],
   "source": [
    "urlTopMovie = \"/trending/movie/week\"\n",
    "api_key = \"2785d06eb866a4683b32c7dd20b6fb63\"\n",
    "params = f'?api_key={api_key}' \n",
    "res = requests.get(base+urlTopMovie+params)\n",
    "res.status_code\n",
    "\n",
    "import operator\n",
    "topMovieWeek = res.json()\n",
    "#print(json.dumps(topMovieWeek, indent=4))\n",
    "topMovieInfo = topMovieWeek['results']\n",
    "dictTopMovie = {}\n",
    "\n",
    "for movie in topMovieInfo:\n",
    "    dictTopMovie[movie['original_title']] = movie['vote_average']\n",
    "#print(dictTopMovie)\n",
    "topMovieDict = sorted(dictTopMovie.items(), key=operator.itemgetter(1),reverse=True)\n",
    "print(topMovieDict[:5])"
   ]
  },
  {
   "cell_type": "code",
   "execution_count": 133,
   "metadata": {},
   "outputs": [
    {
     "name": "stdout",
     "output_type": "stream",
     "text": [
      "[('We Own This City', 9.1), ('Shining Girls', 9.0), ('SK8 the Infinity', 8.9), ('Heartstopper', 8.9), ('One Piece', 8.8)]\n"
     ]
    }
   ],
   "source": [
    "urlTopTv = \"/trending/tv/week\"\n",
    "api_key = \"2785d06eb866a4683b32c7dd20b6fb63\"\n",
    "params = f'?api_key={api_key}' \n",
    "res = requests.get(base+urlTopTv+params)\n",
    "res.status_code\n",
    "\n",
    "import operator\n",
    "topMovieWeek = res.json()\n",
    "#print(json.dumps(topMovieWeek, indent=4))\n",
    "topTvInfo = topTvWeek['results']\n",
    "dictTopTv = {}\n",
    "\n",
    "for tv in topTvInfo:\n",
    "    dictTopTv[tv['name']] = tv['vote_average']\n",
    "#print(dictTopMovie)\n",
    "topTvDict = sorted(dictTopTv.items(), key=operator.itemgetter(1),reverse=True)\n",
    "print(topTvDict[:5])"
   ]
  },
  {
   "cell_type": "code",
   "execution_count": 136,
   "metadata": {},
   "outputs": [
    {
     "name": "stdout",
     "output_type": "stream",
     "text": [
      "[('Tom Holland', 128.772), ('Johnny Depp', 89.393), ('Jason Statham', 59.848), ('Ryan Reynolds', 50.753), ('Noomi Rapace', 38.418)]\n"
     ]
    }
   ],
   "source": [
    "urlTopPerson = \"/trending/person/week\"\n",
    "api_key = \"2785d06eb866a4683b32c7dd20b6fb63\"\n",
    "params = f'?api_key={api_key}' \n",
    "res = requests.get(base+urlTopPerson+params)\n",
    "res.status_code\n",
    "\n",
    "import operator\n",
    "topPersonWeek = res.json()\n",
    "#print(json.dumps(topPersonWeek, indent=4))\n",
    "topPersonInfo = topPersonWeek['results']\n",
    "dictTopPerson = {}\n",
    "\n",
    "for person in topPersonInfo:\n",
    "    dictTopPerson[person['name']] = person['popularity']\n",
    "#print(dictTopPerson)\n",
    "topPersonDict = sorted(dictTopPerson.items(), key=operator.itemgetter(1),reverse=True)\n",
    "print(topPersonDict[:5])"
   ]
  },
  {
   "cell_type": "code",
   "execution_count": null,
   "metadata": {},
   "outputs": [],
   "source": []
  }
 ],
 "metadata": {
  "kernelspec": {
   "display_name": "firstEnv",
   "language": "python",
   "name": "firstenv"
  },
  "language_info": {
   "codemirror_mode": {
    "name": "ipython",
    "version": 3
   },
   "file_extension": ".py",
   "mimetype": "text/x-python",
   "name": "python",
   "nbconvert_exporter": "python",
   "pygments_lexer": "ipython3",
   "version": "3.8.8"
  }
 },
 "nbformat": 4,
 "nbformat_minor": 4
}
